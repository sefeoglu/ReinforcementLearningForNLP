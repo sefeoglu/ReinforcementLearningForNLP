{
 "cells": [
  {
   "cell_type": "code",
   "execution_count": null,
   "metadata": {},
   "outputs": [],
   "source": [
    "import pandas as pd\n",
    "import json\n",
    "import os\n",
    "import numpy\n"
   ]
  },
  {
   "cell_type": "code",
   "execution_count": null,
   "metadata": {},
   "outputs": [],
   "source": [
    "path = os.path.join(\"../data/pure/\", \"dataset_chitchat.py\")"
   ]
  },
  {
   "cell_type": "code",
   "execution_count": null,
   "metadata": {},
   "outputs": [],
   "source": [
    "message_text = []\n",
    "dataset = json.load(open(path))\n",
    "for convo_id, convo in dataset.items():\n",
    "    for a in convo['messages']:\n",
    "        for t in a:\n",
    "            item = [t['text'],t['timestamp'],t['sender']]\n",
    "            message_text.append(item)            \n",
    "            print(message_text)    \n",
    "            break"
   ]
  },
  {
   "cell_type": "code",
   "execution_count": 83,
   "metadata": {},
   "outputs": [
    {
     "name": "stdout",
     "output_type": "stream",
     "text": [
      "Hello\n",
      "How are you doing today?\n",
      "whats up MD\n",
      "im doing good\n",
      "how are you doing?\n",
      "Im alright, I just took a nap. But it was one of those naps that doesnt help anything. It just makes everything worse and you question all your life choices\n",
      "oh wow haha\n",
      "so you still feel tired huh?\n",
      "Yeah\n",
      "did you go to bed late?\n",
      "I have more of a head ache than anything else\n",
      "dude thats terrible\n",
      "No, Its just adjusting to a time change\n",
      "But enough about me\n",
      "What are you up to?\n",
      "im refining my skills on Sketch App\n",
      "have you heard of Sketch?\n",
      "I havent\n",
      "What is it?\n",
      "you know what adobe illustrator is right?\n",
      "Yes\n",
      "its a vector graphic editor like illustrator but its a lot more light weight and its for UX designers to design UI\n",
      "Oh nice!\n",
      "What have you been practicing designing\n",
      "Ive been trying to learn more tools on sketch and just get faster at it]\n",
      "Im doing a free lance job for a professor for his app idea and he needs a mockup of what the app will look like for his pitch\n",
      "Wow that is cool! When is that all due by?\n",
      "this weekend haha\n",
      "Do you think you will finish or is that a pushy deadline?\n",
      "its a deadline I set haha\n",
      "but I think Ill be able to finish\n",
      "I hope...\n",
      "if not I can push it back a little\n",
      "Well I wish you the best of luck with that deadline\n",
      "thanks\n",
      "do you have any personal projects you are working on\"?\n",
      "Not really projects. I finished editing a bunch of engagement pictures. So now all I am really doing is just practicing some sketching\n",
      "I can always practice and improve that skill\n",
      "oh coooool!\n",
      "was this a paid photoshoot?\n",
      "Yep, I had a few that I did before I went home for the summer\n",
      "engagement shoots or weddings are goooood money\n",
      "but i hear in utah its super competitive\n",
      "Yeah there are so many, every other person takes pictures\n",
      "Its easy to do it for friends and people you know but past that it is hard to get more business\n",
      "yeah true\n",
      "do you think if you wanted to pursue your photography you wuold have to move out of utah?\n",
      "Um maybe, People need pictures everywhere\n",
      "But I dont really want to do that, its fine for the side, but too hard to make a living on\n",
      "Remind me what you want to do career wise?\n",
      "I want to become a UX desiner\n",
      "if you werent Christian what religion would you be in if at all?\n",
      "Hm\n",
      "Maybe Buddhist\n",
      "What about you?\n",
      "I think its  a really peaceful practice and it would match my personality\n",
      "I probably would be buddhist culturally because IM korean\n",
      "but if i had a choice I wouldn't label myself as any religion\n",
      "egnostic? is that the term?\n",
      "I think that is a term but I dont know exactly what it means\n",
      "Thats really cool\n",
      "I need to go. Thanks for chatting!\n",
      "Hope you have a good day!\n"
     ]
    }
   ],
   "source": [
    "a = data_frame.T.iloc[0]\n",
    "for first in a.messages:\n",
    "    #print(first)\n",
    "    for te in first:\n",
    "        print(te['text'])\n",
    "  "
   ]
  },
  {
   "cell_type": "code",
   "execution_count": null,
   "metadata": {},
   "outputs": [],
   "source": []
  }
 ],
 "metadata": {
  "kernelspec": {
   "display_name": "Python 3",
   "language": "python",
   "name": "python3"
  },
  "language_info": {
   "codemirror_mode": {
    "name": "ipython",
    "version": 3
   },
   "file_extension": ".py",
   "mimetype": "text/x-python",
   "name": "python",
   "nbconvert_exporter": "python",
   "pygments_lexer": "ipython3",
   "version": "3.7.3"
  }
 },
 "nbformat": 4,
 "nbformat_minor": 2
}
